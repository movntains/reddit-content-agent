{
 "cells": [
  {
   "cell_type": "markdown",
   "id": "0",
   "metadata": {},
   "source": [
    "# Environment Setup\n",
    "\n",
    "## Python Version\n",
    "\n",
    "At the time of writing (October 18, 2025), `langchain_core` uses Pydantic V1, which doesn't support Python `3.14`, so you'll need to ensure that you're using Python `3.13`. The [`pyenv` package](https://github.com/pyenv/pyenv) is very useful for managing Python versions on your machine and within projects.\n",
    "\n",
    "## Create a Python Virtual Environment\n",
    "\n",
    "```shell\n",
    "# In the project directory\n",
    "\n",
    "# Create a virtual environment\n",
    "$ python -m venv venv\n",
    "\n",
    "# Activate the virtual environment in a terminal tab\n",
    "$ source venv/bin/activate\n",
    "```\n",
    "\n",
    "## Configure the Python Interpreter in PyCharm\n",
    "\n",
    "1. In the status bar on the bottom right, click on the `Python Interpreter` option.\n",
    "2. Click on `Interpreter Settings`.\n",
    "3. Click `Add Interpreter`.\n",
    "4. Click `Add Local Interpreter...`.\n",
    "5. Click `Select existing`.\n",
    "6. Leave `Type` as `Python`.\n",
    "7. For `Python path`, click the dropdown and select the option for `<project_directory>/venv/bin/python` and click `OK`.\n",
    "8. Click `Apply`, then click `OK`.\n",
    "9. The status bar should now be showing `Python <version_number> at <project_directory>/venv` as the Python interpreter.\n",
    "\n",
    "## Install Requirements\n",
    "\n",
    "```shell\n",
    "# From a terminal tab with the activated virtual environment\n",
    "\n",
    "$ pip install -r requirements.txt\n",
    "\n",
    "$ pre-commit install\n",
    "```\n",
    "\n",
    "## Set Environment Variables\n",
    "\n",
    "1. Create a `.env` file and copy/paste the contents of the `.env.example` file into it."
   ]
  }
 ],
 "metadata": {
  "kernelspec": {
   "display_name": "Python 3 (ipykernel)",
   "language": "python",
   "name": "python3"
  },
  "language_info": {
   "codemirror_mode": {
    "name": "ipython",
    "version": 3
   },
   "file_extension": ".py",
   "mimetype": "text/x-python",
   "name": "python",
   "nbconvert_exporter": "python",
   "pygments_lexer": "ipython3",
   "version": "3.14.0"
  }
 },
 "nbformat": 4,
 "nbformat_minor": 5
}
