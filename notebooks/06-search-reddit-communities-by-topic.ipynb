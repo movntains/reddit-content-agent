{
 "cells": [
  {
   "cell_type": "code",
   "execution_count": null,
   "id": "0",
   "metadata": {},
   "outputs": [],
   "source": [
    "import os\n",
    "import io\n",
    "import contextlib\n",
    "\n",
    "from dotenv import load_dotenv\n",
    "\n",
    "load_dotenv()"
   ]
  },
  {
   "cell_type": "code",
   "execution_count": null,
   "id": "1",
   "metadata": {},
   "outputs": [],
   "source": [
    "BRIGHT_DATA_SERP_API_KEY = os.environ.get('BRIGHT_DATA_SERP_API_KEY')\n",
    "\n",
    "assert BRIGHT_DATA_SERP_API_KEY is not None"
   ]
  },
  {
   "cell_type": "code",
   "execution_count": null,
   "id": "2",
   "metadata": {},
   "outputs": [],
   "source": [
    "GOOGLE_GEMINI_API_KEY = os.environ.get('GOOGLE_GEMINI_API_KEY')\n",
    "\n",
    "assert GOOGLE_GEMINI_API_KEY is not None"
   ]
  },
  {
   "cell_type": "code",
   "execution_count": null,
   "id": "3",
   "metadata": {},
   "outputs": [],
   "source": [
    "from langchain_brightdata import BrightDataSERP\n",
    "\n",
    "serp_tool = BrightDataSERP(\n",
    "    bright_data_api_key=BRIGHT_DATA_SERP_API_KEY,\n",
    "    parse_results=True,\n",
    ")"
   ]
  },
  {
   "cell_type": "code",
   "execution_count": null,
   "id": "4",
   "metadata": {},
   "outputs": [],
   "source": [
    "serp_tool.name"
   ]
  },
  {
   "cell_type": "code",
   "execution_count": null,
   "id": "5",
   "metadata": {},
   "outputs": [],
   "source": [
    "from langchain_google_genai import ChatGoogleGenerativeAI\n",
    "\n",
    "model = ChatGoogleGenerativeAI(\n",
    "    model='gemini-2.5-flash',\n",
    "    google_api_key=GOOGLE_GEMINI_API_KEY,\n",
    ")"
   ]
  },
  {
   "cell_type": "code",
   "execution_count": null,
   "id": "6",
   "metadata": {},
   "outputs": [],
   "source": [
    "agent_prompt = \"\"\"\n",
    "You are an expert assistant that can search the internet to find the best Reddit communities for any given topic.\n",
    "\n",
    "You are also an expert at finding niche communities that discuss the same topic.\n",
    "\"\"\""
   ]
  },
  {
   "cell_type": "code",
   "execution_count": null,
   "id": "7",
   "metadata": {},
   "outputs": [],
   "source": [
    "from pydantic import BaseModel, Field\n",
    "\n",
    "class RedditCommunity(BaseModel):\n",
    "    name: str = Field(description='Formatted name for Reddit')\n",
    "    url: str = Field(description='The complete URL of the Reddit community')\n",
    "    subreddit_slug: str = Field(description='The slug of the subreddit such as r/python, r/web, or r/trending')\n",
    "    member_count: int | None = Field(description='Current member count, if available')\n",
    "\n",
    "class RedditCommunities(BaseModel):\n",
    "    communities: list[RedditCommunity] = Field(description='The list of Reddit communities')"
   ]
  },
  {
   "cell_type": "code",
   "execution_count": null,
   "id": "8",
   "metadata": {},
   "outputs": [],
   "source": [
    "from langchain.agents import create_agent\n",
    "\n",
    "reddit_agent = create_agent(\n",
    "    model=model,\n",
    "    tools=[serp_tool],\n",
    "    system_prompt=agent_prompt,\n",
    "    response_format=RedditCommunities,\n",
    ")\n",
    "\n",
    "buffer = io.StringIO()\n",
    "\n",
    "# Prevent output of `result_data` from being displayed because it prints out the Bright Data API key\n",
    "with contextlib.redirect_stdout(buffer):\n",
    "    results = reddit_agent.invoke(\n",
    "        {'messages': [{'role': 'user', 'content': 'python, javascript, django, web'}]},\n",
    "        stream_mode='values',\n",
    "    )\n",
    "\n",
    "results['messages'][-1].content"
   ]
  },
  {
   "cell_type": "code",
   "execution_count": null,
   "id": "9",
   "metadata": {},
   "outputs": [],
   "source": [
    "for subreddit in results['structured_response'].communities:\n",
    "    print(subreddit.name, subreddit.url, subreddit.subreddit_slug, subreddit.member_count)"
   ]
  }
 ],
 "metadata": {
  "kernelspec": {
   "display_name": "Python 3",
   "language": "python",
   "name": "python3"
  },
  "language_info": {
   "codemirror_mode": {
    "name": "ipython",
    "version": 2
   },
   "file_extension": ".py",
   "mimetype": "text/x-python",
   "name": "python",
   "nbconvert_exporter": "python",
   "pygments_lexer": "ipython2",
   "version": "2.7.6"
  }
 },
 "nbformat": 4,
 "nbformat_minor": 5
}
