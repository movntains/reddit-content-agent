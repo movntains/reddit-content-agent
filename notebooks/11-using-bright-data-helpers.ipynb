{
 "cells": [
  {
   "cell_type": "code",
   "execution_count": null,
   "id": "0",
   "metadata": {},
   "outputs": [],
   "source": [
    "import setup\n",
    "\n",
    "setup.init()"
   ]
  },
  {
   "cell_type": "code",
   "execution_count": null,
   "id": "1",
   "metadata": {},
   "outputs": [],
   "source": [
    "import helpers.bright_data"
   ]
  },
  {
   "cell_type": "code",
   "execution_count": null,
   "id": "2",
   "metadata": {},
   "outputs": [],
   "source": [
    "response = helpers.bright_data.perform_scrape_snapshot(\n",
    "    subreddit_url=\"https://www.reddit.com/r/Python/\",\n",
    "    num_of_posts=25,\n",
    ")"
   ]
  },
  {
   "cell_type": "code",
   "execution_count": null,
   "id": "3",
   "metadata": {},
   "outputs": [],
   "source": [
    "response"
   ]
  },
  {
   "cell_type": "code",
   "execution_count": null,
   "id": "4",
   "metadata": {},
   "outputs": [],
   "source": [
    "is_ready = helpers.bright_data.get_snapshot_progress(response)"
   ]
  },
  {
   "cell_type": "code",
   "execution_count": null,
   "id": "5",
   "metadata": {},
   "outputs": [],
   "source": [
    "is_ready"
   ]
  },
  {
   "cell_type": "code",
   "execution_count": null,
   "id": "6",
   "metadata": {},
   "outputs": [],
   "source": [
    "import time\n",
    "\n",
    "max_iterations = 10\n",
    "current_iteration = 0\n",
    "\n",
    "while not helpers.bright_data.get_snapshot_progress(response):\n",
    "    if current_iteration > max_iterations:\n",
    "        print(\"Still not ready, try again.\")\n",
    "\n",
    "        break\n",
    "\n",
    "    print(\"Not ready yet...\")\n",
    "\n",
    "    current_iteration += 1\n",
    "\n",
    "    time.sleep(30)\n",
    "\n",
    "results = helpers.bright_data.download_snapshot(response)"
   ]
  },
  {
   "cell_type": "code",
   "execution_count": null,
   "id": "7",
   "metadata": {},
   "outputs": [],
   "source": [
    "results"
   ]
  }
 ],
 "metadata": {
  "kernelspec": {
   "display_name": "Python 3",
   "language": "python",
   "name": "python3"
  },
  "language_info": {
   "codemirror_mode": {
    "name": "ipython",
    "version": 2
   },
   "file_extension": ".py",
   "mimetype": "text/x-python",
   "name": "python",
   "nbconvert_exporter": "python",
   "pygments_lexer": "ipython2",
   "version": "2.7.6"
  }
 },
 "nbformat": 4,
 "nbformat_minor": 5
}
