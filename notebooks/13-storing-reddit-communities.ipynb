{
 "cells": [
  {
   "cell_type": "code",
   "execution_count": null,
   "id": "0",
   "metadata": {},
   "outputs": [],
   "source": [
    "import setup\n",
    "\n",
    "setup.init()"
   ]
  },
  {
   "cell_type": "code",
   "execution_count": null,
   "id": "1",
   "metadata": {},
   "outputs": [],
   "source": [
    "from reddit.models import RedditCommunity\n",
    "\n",
    "import ai"
   ]
  },
  {
   "cell_type": "code",
   "execution_count": null,
   "id": "2",
   "metadata": {},
   "outputs": [],
   "source": [
    "ai.extract_topics_agent(\n",
    "    \"Why are there cameras everywhere? Wouldn't the world be better without cameras?\"\n",
    ")"
   ]
  },
  {
   "cell_type": "code",
   "execution_count": null,
   "id": "3",
   "metadata": {},
   "outputs": [],
   "source": [
    "query = \"I really like snowboarding\"\n",
    "\n",
    "topics = ai.extract_topics_agent(query)\n",
    "topic_names = \", \".join([x.get(\"name\") for x in topics])\n",
    "\n",
    "topic_names"
   ]
  },
  {
   "cell_type": "code",
   "execution_count": null,
   "id": "4",
   "metadata": {},
   "outputs": [],
   "source": [
    "for topic in topics:\n",
    "    topic_name = topic.get(\"name\")\n",
    "\n",
    "    print(f\"Researching {topic_name}\")\n",
    "\n",
    "    community_data = ai.perform_get_reddit_communities(topic_name)\n",
    "\n",
    "    for community in community_data:\n",
    "        url = community.pop(\"url\")\n",
    "\n",
    "        print(community)\n",
    "\n",
    "        RedditCommunity.objects.update_or_create(url=url, defaults=community)"
   ]
  }
 ],
 "metadata": {
  "kernelspec": {
   "display_name": "Python 3",
   "language": "python",
   "name": "python3"
  },
  "language_info": {
   "codemirror_mode": {
    "name": "ipython",
    "version": 2
   },
   "file_extension": ".py",
   "mimetype": "text/x-python",
   "name": "python",
   "nbconvert_exporter": "python",
   "pygments_lexer": "ipython2",
   "version": "2.7.6"
  }
 },
 "nbformat": 4,
 "nbformat_minor": 5
}
