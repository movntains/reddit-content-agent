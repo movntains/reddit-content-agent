{
 "cells": [
  {
   "cell_type": "code",
   "execution_count": null,
   "id": "0",
   "metadata": {},
   "outputs": [],
   "source": [
    "import setup\n",
    "\n",
    "setup.init()"
   ]
  },
  {
   "cell_type": "code",
   "execution_count": null,
   "id": "1",
   "metadata": {},
   "outputs": [],
   "source": [
    "import os\n",
    "import io\n",
    "import contextlib\n",
    "from dotenv import load_dotenv\n",
    "\n",
    "load_dotenv()"
   ]
  },
  {
   "cell_type": "code",
   "execution_count": null,
   "id": "2",
   "metadata": {},
   "outputs": [],
   "source": [
    "GOOGLE_GEMINI_API_KEY = os.environ.get(\"GOOGLE_GEMINI_API_KEY\")\n",
    "\n",
    "assert GOOGLE_GEMINI_API_KEY is not None"
   ]
  },
  {
   "cell_type": "code",
   "execution_count": null,
   "id": "3",
   "metadata": {},
   "outputs": [],
   "source": [
    "BRIGHT_DATA_API_KEY = os.environ.get(\"BRIGHT_DATA_API_KEY\")\n",
    "\n",
    "assert BRIGHT_DATA_API_KEY is not None"
   ]
  },
  {
   "cell_type": "code",
   "execution_count": null,
   "id": "4",
   "metadata": {},
   "outputs": [],
   "source": [
    "from reddit.models import RedditCommunity"
   ]
  },
  {
   "cell_type": "code",
   "execution_count": null,
   "id": "5",
   "metadata": {},
   "outputs": [],
   "source": [
    "from langchain_brightdata import BrightDataSERP\n",
    "\n",
    "serp_tool = BrightDataSERP(\n",
    "    bright_data_api_key=BRIGHT_DATA_API_KEY,\n",
    "    parse_results=True,\n",
    ")"
   ]
  },
  {
   "cell_type": "code",
   "execution_count": null,
   "id": "6",
   "metadata": {},
   "outputs": [],
   "source": [
    "from langchain_google_genai import ChatGoogleGenerativeAI\n",
    "\n",
    "model = ChatGoogleGenerativeAI(\n",
    "    model=\"gemini-2.5-flash\",\n",
    "    google_api_key=GOOGLE_GEMINI_API_KEY,\n",
    ")"
   ]
  },
  {
   "cell_type": "code",
   "execution_count": null,
   "id": "7",
   "metadata": {},
   "outputs": [],
   "source": [
    "agent_prompt = \"\"\"\n",
    "You are an expert assistant that can search the internet to find the best Reddit communities for any given topic.\n",
    "\n",
    "You are also an expert at finding niche communities that discuss the same topic.\n",
    "\"\"\""
   ]
  },
  {
   "cell_type": "code",
   "execution_count": null,
   "id": "8",
   "metadata": {},
   "outputs": [],
   "source": [
    "from pydantic import BaseModel, Field\n",
    "\n",
    "\n",
    "class RedditCommunitySchema(BaseModel):\n",
    "    name: str = Field(description=\"Formatted name for Reddit\")\n",
    "    url: str = Field(description=\"The complete URL of the Reddit community\")\n",
    "    subreddit_slug: str = Field(\n",
    "        description=\"The slug of the subreddit such as r/python, r/web, or r/trending\"\n",
    "    )\n",
    "    member_count: int | None = Field(description=\"Current member count, if available\")\n",
    "\n",
    "\n",
    "class RedditCommunitiesSchema(BaseModel):\n",
    "    communities: list[RedditCommunitySchema] = Field(\n",
    "        description=\"The list of Reddit communities\"\n",
    "    )"
   ]
  },
  {
   "cell_type": "code",
   "execution_count": null,
   "id": "9",
   "metadata": {},
   "outputs": [],
   "source": [
    "from langchain.agents import create_agent\n",
    "\n",
    "reddit_agent = create_agent(\n",
    "    model=model,\n",
    "    tools=[serp_tool],\n",
    "    system_prompt=agent_prompt,\n",
    "    response_format=RedditCommunitiesSchema,\n",
    ")\n",
    "\n",
    "buffer = io.StringIO()\n",
    "\n",
    "# Prevent output of `result_data` from being displayed because it prints out the Bright Data API key\n",
    "with contextlib.redirect_stdout(buffer):\n",
    "    results = reddit_agent.invoke(\n",
    "        {\"messages\": [{\"role\": \"user\", \"content\": \"python, javascript, django, web\"}]},\n",
    "        stream_mode=\"values\",\n",
    "    )\n",
    "\n",
    "results[\"messages\"][-1].content"
   ]
  },
  {
   "cell_type": "code",
   "execution_count": null,
   "id": "10",
   "metadata": {},
   "outputs": [],
   "source": [
    "for subreddit in results[\"structured_response\"].communities:\n",
    "    print(\n",
    "        subreddit.name, subreddit.url, subreddit.subreddit_slug, subreddit.member_count\n",
    "    )"
   ]
  },
  {
   "cell_type": "code",
   "execution_count": null,
   "id": "11",
   "metadata": {},
   "outputs": [],
   "source": [
    "community_data = [x.model_dump() for x in results[\"structured_response\"].communities]\n",
    "\n",
    "for community in community_data:\n",
    "    url = community.pop(\"url\")\n",
    "\n",
    "    print(community)\n",
    "\n",
    "    RedditCommunity.objects.update_or_create(url=url, defaults=community)"
   ]
  }
 ],
 "metadata": {
  "kernelspec": {
   "display_name": "Python 3",
   "language": "python",
   "name": "python3"
  },
  "language_info": {
   "codemirror_mode": {
    "name": "ipython",
    "version": 2
   },
   "file_extension": ".py",
   "mimetype": "text/x-python",
   "name": "python",
   "nbconvert_exporter": "python",
   "pygments_lexer": "ipython2",
   "version": "2.7.6"
  }
 },
 "nbformat": 4,
 "nbformat_minor": 5
}
