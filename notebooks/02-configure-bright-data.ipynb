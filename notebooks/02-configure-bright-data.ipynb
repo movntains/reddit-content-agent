{
 "cells": [
  {
   "cell_type": "markdown",
   "id": "0",
   "metadata": {},
   "source": [
    "# Configuring Bright Data\n",
    "\n",
    "## Create an Account\n",
    "\n",
    "If you don't have an account already, go to the [Bright Data website](https://brightdata.com/) and create a free account. You don't need to enter any payment details.\n",
    "\n",
    "## Create a SERP API\n",
    "\n",
    "**Note**: These instructions are liable to change slightly if Bright Data makes changes to their user dashboard UI. They'll work as of October 18, 2025.\n",
    "\n",
    "1. Hover over `Web Access` in the sidebar navigation and click on `My APIs`.\n",
    "2. Click `Create API`.\n",
    "3. Select `SERP API` and click `Continue`.\n",
    "4. **Important**: Change the `Zone name` to `serp`. As of this writing (October 18, 2025), the `langchain-brightdata` package doesn't allow for configuring the zone name and uses `serp` by default. If you don't have a zone with the name `serp`, invocations with the tool will fail.\n",
    "5. Make sure that `CAPTCHA Solver` is enabled and the `Standard` option is selected.\n",
    "6. Click `Add API`.\n",
    "\n",
    "## Add API Key to `.env`\n",
    "\n",
    "Copy the API key and paste it as the value for `BRIGHT_DATA_SERP_API_KEY` in the `.env` file."
   ]
  }
 ],
 "metadata": {
  "kernelspec": {
   "display_name": "Python 3",
   "language": "python",
   "name": "python3"
  },
  "language_info": {
   "codemirror_mode": {
    "name": "ipython",
    "version": 2
   },
   "file_extension": ".py",
   "mimetype": "text/x-python",
   "name": "python",
   "nbconvert_exporter": "python",
   "pygments_lexer": "ipython2",
   "version": "2.7.6"
  }
 },
 "nbformat": 4,
 "nbformat_minor": 5
}
