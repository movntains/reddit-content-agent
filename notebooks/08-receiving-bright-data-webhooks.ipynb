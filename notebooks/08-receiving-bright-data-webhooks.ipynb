{
 "cells": [
  {
   "cell_type": "markdown",
   "id": "0",
   "metadata": {},
   "source": [
    "# Receiving Bright Data Snapshot Webhooks\n",
    "\n",
    "Relevant documentation links:\n",
    "- [Local Cloudflare tunnel](https://developers.cloudflare.com/pages/how-to/preview-with-cloudflare-tunnel/)\n",
    "\n",
    "## Using a Cloudflare Tunnel to Receive Webhooks Locally\n",
    "\n",
    "1. Create a Cloudflare account if you don't have one already.\n",
    "2. [Install `cloudflared`](https://developers.cloudflare.com/cloudflare-one/connections/connect-networks/downloads/).\n",
    "\n",
    "### Run the Django Project\n",
    "\n",
    "```shell\n",
    "# From within a virtual environment terminal window\n",
    "\n",
    "$ python manage.py runserver\n",
    "```\n",
    "\n",
    "### Start a Cloudflare Tunnel\n",
    "\n",
    "This will provide a free tunnel URL (e.g., `https://<random_strings>.trycloudflare.com/`) that can be set as the webhook URL for Bright Data requests.\n",
    "\n",
    "```shell\n",
    "# In a separate terminal tab\n",
    "\n",
    "$ cloudflared tunnel --url http://127.0.0.1:8000/\n",
    "```\n",
    "\n",
    "## Setting Up QStash\n",
    "\n",
    "1. Either create an account or log in at [Upstash](https://upstash.com/).\n",
    "2. In the dashboard, click on `QStash` in the top navigation.\n",
    "3. Copy the values for the `QSTASH_` environment variables and add them to your `.env` file."
   ]
  }
 ],
 "metadata": {
  "kernelspec": {
   "display_name": "Python 3",
   "language": "python",
   "name": "python3"
  },
  "language_info": {
   "codemirror_mode": {
    "name": "ipython",
    "version": 2
   },
   "file_extension": ".py",
   "mimetype": "text/x-python",
   "name": "python",
   "nbconvert_exporter": "python",
   "pygments_lexer": "ipython2",
   "version": "2.7.6"
  }
 },
 "nbformat": 4,
 "nbformat_minor": 5
}
