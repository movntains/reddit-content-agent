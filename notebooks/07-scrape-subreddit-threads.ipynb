{
 "cells": [
  {
   "cell_type": "markdown",
   "id": "0",
   "metadata": {},
   "source": [
    "# Scrape Reddit with Bright Data\n",
    "\n",
    "## Configure a Scraper\n",
    "\n",
    "1. In the Bright Data user dashboard, hover over `Data` and click on `Scrapers Library`.\n",
    "2. In the search box, enter `reddit` and click on the `reddit.com` result.\n",
    "3. Click on `reddit.com` under `Results for Scrapers`.\n",
    "4. Under `Available Endpoints`, click on `Discover by subreddit url`.\n",
    "5. Under `Configuration`, click on `Set record limit`.\n",
    "6. Toggle `Set record limit` so that it's on, and enter `100` for `Maximum records per input`.\n",
    "7. Click `Back to scraper settings`.\n",
    "8. Under `Inputs`, change the first row's `sort_by` to `Top`, ensure that `sort_by_time` is set to `Today`, set `num_of_posts` to `10`, and remove the `keyword`.\n",
    "9. Select `Asynchronous` under `Choose scraper mode`.\n",
    "\n",
    "## Monitor a Snapshot\n",
    "\n",
    "1. Click on `Snapshots`.\n",
    "2. Click on a `Snapshot ID` to copy the value.\n",
    "3. Click on `Manage snapshots API`.\n",
    "4. Click on `Monitor progress API`.\n",
    "5. Select an API token.\n",
    "6. Paste in the snapshot ID.\n",
    "\n",
    "## Download a Snapshot\n",
    "\n",
    "1. Click on `Snapshots`.\n",
    "2. Click on a `Snapshot ID` to copy the value.\n",
    "3. Click on `Manage snapshots API`.\n",
    "4. Click on `Download snapshot`.\n",
    "5. Select an API token.\n",
    "6. Paste in the snapshot ID."
   ]
  },
  {
   "cell_type": "code",
   "execution_count": null,
   "id": "1",
   "metadata": {},
   "outputs": [],
   "source": [
    "import json\n",
    "import os\n",
    "\n",
    "import requests\n",
    "from dotenv import load_dotenv\n",
    "\n",
    "load_dotenv()"
   ]
  },
  {
   "cell_type": "code",
   "execution_count": null,
   "id": "2",
   "metadata": {},
   "outputs": [],
   "source": [
    "BRIGHT_DATA_API_KEY = os.environ.get('BRIGHT_DATA_API_KEY')\n",
    "\n",
    "assert BRIGHT_DATA_API_KEY is not None"
   ]
  },
  {
   "cell_type": "code",
   "execution_count": null,
   "id": "3",
   "metadata": {},
   "outputs": [],
   "source": [
    "def get_crawl_headers() -> dict[str, str]:\n",
    "    return {\n",
    "        'Authorization': f\"Bearer {BRIGHT_DATA_API_KEY}\",\n",
    "        'Content-Type': 'application/json',\n",
    "    }"
   ]
  },
  {
   "cell_type": "code",
   "execution_count": null,
   "id": "4",
   "metadata": {},
   "outputs": [],
   "source": [
    "def perform_scrape_snapshot(subreddit_url: str, num_of_posts: int = 20) -> str:\n",
    "    url = 'https://api.brightdata.com/datasets/v3/trigger?dataset_id=gd_lvz8ah06191smkebj4&notify=false&include_errors=true&type=discover_new&discover_by=subreddit_url&limit_per_input=100'\n",
    "    headers = get_crawl_headers()\n",
    "    data = json.dumps({\n",
    "        'input': [\n",
    "            {\n",
    "                'url': f\"{subreddit_url}\",\n",
    "                'sort_by': 'Top',\n",
    "                'sort_by_time': 'Today',\n",
    "                'num_of_posts': num_of_posts,\n",
    "            },\n",
    "        ],\n",
    "    })\n",
    "\n",
    "    response = requests.post(\n",
    "        url=url,\n",
    "        headers=headers,\n",
    "        data=data\n",
    "    )\n",
    "\n",
    "    response.raise_for_status()\n",
    "\n",
    "    scrape_data = response.json()\n",
    "\n",
    "    return scrape_data.get('snapshot_id')"
   ]
  },
  {
   "cell_type": "code",
   "execution_count": null,
   "id": "5",
   "metadata": {},
   "outputs": [],
   "source": [
    "scrape_snapshot_result = perform_scrape_snapshot('https://www.reddit.com/r/django')\n",
    "\n",
    "print(scrape_snapshot_result)"
   ]
  },
  {
   "cell_type": "code",
   "execution_count": null,
   "id": "6",
   "metadata": {},
   "outputs": [],
   "source": [
    "def get_snapshot_progress(snapshot_id: str) -> bool | None:\n",
    "    url = f\"https://api.brightdata.com/datasets/v3/progress/{snapshot_id}\"\n",
    "    headers = get_crawl_headers()\n",
    "\n",
    "    try:\n",
    "        response = requests.get(url=url, headers=headers)\n",
    "\n",
    "        response.raise_for_status()\n",
    "\n",
    "        result = response.json()\n",
    "\n",
    "        return result['status'] == 'ready'\n",
    "\n",
    "    except requests.exceptions.RequestException as e:\n",
    "        print(f\"Error: {e}\")"
   ]
  },
  {
   "cell_type": "code",
   "execution_count": null,
   "id": "7",
   "metadata": {},
   "outputs": [],
   "source": [
    "get_snapshot_progress(scrape_snapshot_result)"
   ]
  },
  {
   "cell_type": "code",
   "execution_count": null,
   "id": "8",
   "metadata": {},
   "outputs": [],
   "source": [
    "def download_snapshot(snapshot_id: str) -> dict[str, str] | None:\n",
    "    url = f\"https://api.brightdata.com/datasets/v3/snapshot/{snapshot_id}\"\n",
    "    headers = get_crawl_headers()\n",
    "    params = {\n",
    "        'format': 'json',\n",
    "    }\n",
    "\n",
    "    try:\n",
    "        response = requests.get(url=url, headers=headers, params=params)\n",
    "\n",
    "        response.raise_for_status()\n",
    "\n",
    "        return response.json()\n",
    "\n",
    "    except requests.exceptions.RequestException as e:\n",
    "        print(f\"Error: {e}\")"
   ]
  },
  {
   "cell_type": "code",
   "execution_count": null,
   "id": "9",
   "metadata": {},
   "outputs": [],
   "source": [
    "reddit_results = download_snapshot(scrape_snapshot_result)"
   ]
  },
  {
   "cell_type": "code",
   "execution_count": null,
   "id": "10",
   "metadata": {},
   "outputs": [],
   "source": [
    "for thread in reddit_results:\n",
    "    print(thread.get('title'), thread.get('num_upvotes'))"
   ]
  }
 ],
 "metadata": {
  "kernelspec": {
   "display_name": "Python 3",
   "language": "python",
   "name": "python3"
  },
  "language_info": {
   "codemirror_mode": {
    "name": "ipython",
    "version": 2
   },
   "file_extension": ".py",
   "mimetype": "text/x-python",
   "name": "python",
   "nbconvert_exporter": "python",
   "pygments_lexer": "ipython2",
   "version": "2.7.6"
  }
 },
 "nbformat": 4,
 "nbformat_minor": 5
}
