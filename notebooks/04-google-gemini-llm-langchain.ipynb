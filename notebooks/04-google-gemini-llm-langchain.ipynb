{
 "cells": [
  {
   "cell_type": "markdown",
   "id": "0",
   "metadata": {},
   "source": [
    "# Configure Google Gemini Integration\n",
    "\n",
    "The documentation for Google Gemini and LangChain can be found at https://docs.langchain.com/oss/python/integrations/providers/google.\n",
    "\n",
    "## Create an API Key\n",
    "\n",
    "1. Create an account for [Google AI Studio](https://aistudio.google.com).\n",
    "2. Once logged in, click on `Dashboard` in the side navigation.\n",
    "3. Click on `Projects`, then click on `Create a new project`.\n",
    "4. Provide a project name (e.g., `Content Agent`) and click `Create Project`.\n",
    "5. Click on `API keys` in the side navigation.\n",
    "6. Click on `Create API key`.\n",
    "7. Provide a name for the API key (e.g., `Content Agent API Key`) and select the project you just created, then click `Create key`.\n",
    "8. Copy the key and paste it as the value for `GOOGLE_GEMINI_API_KEY` in the `.env` file."
   ]
  },
  {
   "cell_type": "code",
   "execution_count": null,
   "id": "1",
   "metadata": {},
   "outputs": [],
   "source": [
    "import os\n",
    "\n",
    "from dotenv import load_dotenv\n",
    "\n",
    "load_dotenv()"
   ]
  },
  {
   "cell_type": "code",
   "execution_count": null,
   "id": "2",
   "metadata": {},
   "outputs": [],
   "source": [
    "GOOGLE_GEMINI_API_KEY = os.environ.get(\"GOOGLE_API_KEY\")\n",
    "\n",
    "assert GOOGLE_GEMINI_API_KEY is not None"
   ]
  },
  {
   "cell_type": "code",
   "execution_count": null,
   "id": "3",
   "metadata": {},
   "outputs": [],
   "source": [
    "from langchain_google_genai import ChatGoogleGenerativeAI\n",
    "\n",
    "model = ChatGoogleGenerativeAI(\n",
    "    model=\"gemini-2.5-flash\",\n",
    "    google_api_key=GOOGLE_GEMINI_API_KEY,\n",
    ")\n",
    "\n",
    "message = model.invoke(\"What is your name?\")\n",
    "\n",
    "print(message.content)"
   ]
  },
  {
   "cell_type": "code",
   "execution_count": null,
   "id": "4",
   "metadata": {},
   "outputs": [],
   "source": [
    "from pydantic import BaseModel, Field\n",
    "\n",
    "\n",
    "class LanguageRanking(BaseModel):\n",
    "    name: str = Field(description=\"Programming language name\")\n",
    "    date_created: str = Field(description=\"Date first created\")\n",
    "    rank: int = Field(description=\"Current ranking\")\n",
    "\n",
    "\n",
    "class ProgrammingLanguageRank(BaseModel):\n",
    "    rankings: list[LanguageRanking] = Field(\n",
    "        description=\"Current rankings of programming languages\"\n",
    "    )"
   ]
  },
  {
   "cell_type": "code",
   "execution_count": null,
   "id": "5",
   "metadata": {},
   "outputs": [],
   "source": [
    "llm = model.with_structured_output(ProgrammingLanguageRank)\n",
    "\n",
    "result = llm.invoke(\"What is the popularity ranking of programming languages in 2025?\")\n",
    "\n",
    "result.model_dump()"
   ]
  },
  {
   "cell_type": "code",
   "execution_count": null,
   "id": "6",
   "metadata": {},
   "outputs": [],
   "source": [
    "for lang in result.rankings:\n",
    "    print(lang.name, lang.date_created, lang.rank)"
   ]
  }
 ],
 "metadata": {
  "kernelspec": {
   "display_name": "Python 3",
   "language": "python",
   "name": "python3"
  },
  "language_info": {
   "codemirror_mode": {
    "name": "ipython",
    "version": 2
   },
   "file_extension": ".py",
   "mimetype": "text/x-python",
   "name": "python",
   "nbconvert_exporter": "python",
   "pygments_lexer": "ipython2",
   "version": "2.7.6"
  }
 },
 "nbformat": 4,
 "nbformat_minor": 5
}
